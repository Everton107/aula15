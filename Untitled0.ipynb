{
  "nbformat": 4,
  "nbformat_minor": 0,
  "metadata": {
    "colab": {
      "provenance": [],
      "toc_visible": true,
      "authorship_tag": "ABX9TyNCZWoT/bmvBTUPbS9YS9/9",
      "include_colab_link": true
    },
    "kernelspec": {
      "name": "python3",
      "display_name": "Python 3"
    },
    "language_info": {
      "name": "python"
    }
  },
  "cells": [
    {
      "cell_type": "markdown",
      "metadata": {
        "id": "view-in-github",
        "colab_type": "text"
      },
      "source": [
        "<a href=\"https://colab.research.google.com/github/Everton107/aula15/blob/main/Untitled0.ipynb\" target=\"_parent\"><img src=\"https://colab.research.google.com/assets/colab-badge.svg\" alt=\"Open In Colab\"/></a>"
      ]
    },
    {
      "cell_type": "markdown",
      "source": [
        "Aula 15"
      ],
      "metadata": {
        "id": "jim06k2ZubMO"
      }
    },
    {
      "cell_type": "code",
      "source": [
        "# Programa python usando\n",
        "# a biblioteca Numpy para\n",
        "# realizar algumas operações básicas\n",
        "\n",
        "import numpy as np\n",
        "\n",
        "# Criando duas matriz de duas dimensões\n",
        "x = np.array([[1, 2], [3, 4]])\n",
        "y = np.array([[5, 6], [7, 8]])\n",
        "\n",
        "# Criando duas matrizes de um dimensão\n",
        "v = np.array([9, 10])\n",
        "w = np.array([11, 12])\n",
        "\n",
        "# Produto interno de vetores\n",
        "print(np.dot(v, w), \"\\n\")\n",
        "\n",
        "# Produto de matriz e vetor\n",
        "print(np.dot(x, v), \"\\n\")\n",
        "\n",
        "# Matriz e produto da matriz\n",
        "print(np.dot(x, y))\n"
      ],
      "metadata": {
        "colab": {
          "base_uri": "https://localhost:8080/"
        },
        "id": "lT2tar5_uewn",
        "outputId": "dd99cefb-dba7-4d89-b643-b73a7fa5f8b0"
      },
      "execution_count": 1,
      "outputs": [
        {
          "output_type": "stream",
          "name": "stdout",
          "text": [
            "219 \n",
            "\n",
            "[29 67] \n",
            "\n",
            "[[19 22]\n",
            " [43 50]]\n"
          ]
        }
      ]
    },
    {
      "cell_type": "markdown",
      "source": [
        "scikit learn"
      ],
      "metadata": {
        "id": "bbTS5xLwvT-G"
      }
    },
    {
      "cell_type": "code",
      "source": [
        "from sklearn import datasets\n",
        "from sklearn import metrics\n",
        "from sklearn.tree import DecisionTreeClassifier"
      ],
      "metadata": {
        "id": "_k8T7CXjvaxU"
      },
      "execution_count": 2,
      "outputs": []
    },
    {
      "cell_type": "code",
      "source": [
        "#carregar dados da iris\n",
        "dataset = datasets.load_iris()"
      ],
      "metadata": {
        "id": "-83FQJ-ZveVl"
      },
      "execution_count": 3,
      "outputs": []
    },
    {
      "cell_type": "code",
      "source": [
        "#ajustar um modelo CART aos dados\n",
        "model = DecisionTreeClassifier()\n",
        "model.fit(dataset.data, dataset.target)\n",
        "print(model)\n",
        ""
      ],
      "metadata": {
        "colab": {
          "base_uri": "https://localhost:8080/"
        },
        "id": "gMK5vfw-v7ik",
        "outputId": "cdb884f7-00e8-422c-f779-638c4f22bc79"
      },
      "execution_count": 5,
      "outputs": [
        {
          "output_type": "stream",
          "name": "stdout",
          "text": [
            "DecisionTreeClassifier()\n"
          ]
        }
      ]
    },
    {
      "cell_type": "code",
      "source": [
        "#fazer previsões\n",
        "expected = dataset.target\n",
        "predicted = model.predict(dataset.data)"
      ],
      "metadata": {
        "id": "AJlt_5vpvhqX"
      },
      "execution_count": 6,
      "outputs": []
    },
    {
      "cell_type": "code",
      "source": [
        "#resumir o ajuste do modelo\n",
        "print(metrics.classification_report(expected, predicted))\n",
        "print(metrics.confusion_matrix(expected, predicted))"
      ],
      "metadata": {
        "colab": {
          "base_uri": "https://localhost:8080/"
        },
        "id": "Lv2rp2elvn1p",
        "outputId": "81fc69d1-3356-45c7-c8c4-2bd3a477c71d"
      },
      "execution_count": 7,
      "outputs": [
        {
          "output_type": "stream",
          "name": "stdout",
          "text": [
            "              precision    recall  f1-score   support\n",
            "\n",
            "           0       1.00      1.00      1.00        50\n",
            "           1       1.00      1.00      1.00        50\n",
            "           2       1.00      1.00      1.00        50\n",
            "\n",
            "    accuracy                           1.00       150\n",
            "   macro avg       1.00      1.00      1.00       150\n",
            "weighted avg       1.00      1.00      1.00       150\n",
            "\n",
            "[[50  0  0]\n",
            " [ 0 50  0]\n",
            " [ 0  0 50]]\n"
          ]
        }
      ]
    },
    {
      "cell_type": "code",
      "execution_count": null,
      "metadata": {
        "id": "63ynkmfBuaGp"
      },
      "outputs": [],
      "source": []
    },
    {
      "cell_type": "markdown",
      "source": [
        "KNN"
      ],
      "metadata": {
        "id": "L-xi_cvMy1bs"
      }
    },
    {
      "cell_type": "code",
      "source": [
        "# livros [ didático, poesia, ficção, auto-ajuda, economia]\n",
        "'''\n",
        "característica 1 = O livro é de fácil leitura? (nota de 0 a 5)\n",
        "característica 2 = O livro é difícil? (nota de 0 a 5)\n",
        "característica 3 = O livro é cheio de fórmulas? (nota de 0 a 5)\n",
        "característica 4 = O livro contém rimas? (nota de 0 a 5)\n",
        "característica 5 = O livro é utópico? (nota de 0 a 5)\n",
        "'''\n",
        "livro1=[0,5,5,0,0]\n",
        "livro2=[0,5,0,0,0]\n",
        "livro3=[5,5,0,0,0]\n",
        "livro4=[0,0,5,5,0]\n",
        "#classes que sao atribuidas ao livro didatico\n",
        "isDidatico=[0,1,1,0]\n",
        "\n",
        "X=[livro1,livro2,livro3,livro4]\n",
        "y=isDidatico"
      ],
      "metadata": {
        "id": "6lHjRGyky27i"
      },
      "execution_count": null,
      "outputs": []
    },
    {
      "cell_type": "code",
      "source": [
        "!pip install sklearn"
      ],
      "metadata": {
        "id": "gEti9c6By6L5"
      },
      "execution_count": null,
      "outputs": []
    },
    {
      "cell_type": "code",
      "source": [
        "from sklearn.neighbors import KNeighborsClassifier\n",
        "neigh = KNeighborsClassifier(n_neighbors=3)\n",
        "neigh.fit(X, y)\n",
        "novoLivro=[[0,2,4,0,0]]\n",
        "result=neigh.predict(novoLivro)\n",
        "print(result)\n",
        "if(result==0):\n",
        "  print(\"É didático\")\n",
        "else:\n",
        "  print(\"não é didático\")"
      ],
      "metadata": {
        "id": "5NIk_3FHy9Lz"
      },
      "execution_count": null,
      "outputs": []
    }
  ]
}